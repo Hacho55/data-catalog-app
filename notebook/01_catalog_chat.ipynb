{
 "cells": [
  {
   "cell_type": "code",
   "execution_count": 20,
   "metadata": {},
   "outputs": [
    {
     "data": {
      "text/plain": [
       "True"
      ]
     },
     "execution_count": 20,
     "metadata": {},
     "output_type": "execute_result"
    }
   ],
   "source": [
    "import os\n",
    "import sys\n",
    "sys.path.append(os.path.abspath(os.path.join(os.getcwd(), '..')))\n",
    "from dotenv import load_dotenv\n",
    "from langchain_openai import ChatOpenAI\n",
    "from IPython.display import Markdown, display\n",
    "import ipywidgets as widgets\n",
    "import pandas as pd\n",
    "from utils.db import get_column_info, get_pg_engine\n",
    "from sqlalchemy import text\n",
    "from sqlalchemy.exc import SQLAlchemyError\n",
    "\n",
    "load_dotenv()\n",
    "\n"
   ]
  },
  {
   "cell_type": "code",
   "execution_count": 3,
   "metadata": {},
   "outputs": [],
   "source": [
    "# Initialize OpenAI chat model\n",
    "llm = ChatOpenAI(\n",
    "    temperature=0,\n",
    "    model=\"gpt-4\",\n",
    "    openai_api_key=os.getenv(\"OPENAI_API_KEY\")\n",
    ")"
   ]
  },
  {
   "cell_type": "code",
   "execution_count": 6,
   "metadata": {},
   "outputs": [
    {
     "data": {
      "application/vnd.jupyter.widget-view+json": {
       "model_id": "82a40ef9065f4cb48192b29467c28f47",
       "version_major": 2,
       "version_minor": 0
      },
      "text/plain": [
       "Text(value='wei', description='Schema:')"
      ]
     },
     "metadata": {},
     "output_type": "display_data"
    },
    {
     "data": {
      "application/vnd.jupyter.widget-view+json": {
       "model_id": "cf3e67ae03f94506b2adfd54384f51f3",
       "version_major": 2,
       "version_minor": 0
      },
      "text/plain": [
       "Text(value='t_radio_devices_stats_last_status', description='Table:')"
      ]
     },
     "metadata": {},
     "output_type": "display_data"
    }
   ],
   "source": [
    "# !pipenv run pip install ipywidgets - if don't display data\n",
    "# Create text inputs for schema and table\n",
    "schema_input = widgets.Text(\n",
    "    value='wei',\n",
    "    description='Schema:',\n",
    "    disabled=False\n",
    ")\n",
    "table_input = widgets.Text(\n",
    "    value='t_radio_devices_stats_last_status',\n",
    "    description='Table:',\n",
    "    disabled=False\n",
    ")\n",
    "display(schema_input, table_input)"
   ]
  },
  {
   "cell_type": "code",
   "execution_count": null,
   "metadata": {},
   "outputs": [
    {
     "name": "stdout",
     "output_type": "stream",
     "text": [
      "Your query is correct. Here it is again for clarity:\n",
      "\n",
      "```sql\n",
      "SELECT\n",
      "    a.attname AS column_name,\n",
      "    format_type(a.atttypid, a.atttypmod) AS data_type,\n",
      "    col_description(a.attrelid, a.attnum) AS description\n",
      "FROM\n",
      "    pg_attribute a\n",
      "JOIN\n",
      "    pg_class c ON a.attrelid = c.oid\n",
      "JOIN\n",
      "    pg_namespace n ON c.relnamespace = n.oid\n",
      "WHERE\n",
      "    c.relname = 't_radio_devices_stats_last_status'\n",
      "    AND n.nspname = 'wei'\n",
      "    AND a.attnum > 0\n",
      "    AND NOT a.attisdropped\n",
      "ORDER BY\n",
      "    a.attnum;\n",
      "```\n",
      "\n",
      "This query will return the name of each column, its data type, and its comment (description) for the table 't_radio_devices_stats_last_status' in the schema 'wei'. It uses the system catalog views `pg_attribute`, `pg_class`, and `pg_namespace` to retrieve this information.\n"
     ]
    }
   ],
   "source": [
    "# Get input values\n",
    "schema = schema_input.value\n",
    "table = table_input.value\n",
    "\n",
    "# Define prompt\n",
    "prompt_template = f\"\"\"\n",
    "Generate a PostgreSQL SQL query that retrieves the name of each column, its data type, and its comment\n",
    "(description), using system catalog views.\n",
    "\n",
    "The table is called '{table}' and belongs to the schema '{schema}'.\n",
    "\n",
    "The query should follow this structure:\n",
    "SELECT\n",
    "    a.attname AS column_name,\n",
    "    format_type(a.atttypid, a.atttypmod) AS data_type,\n",
    "    col_description(a.attrelid, a.attnum) AS description\n",
    "FROM\n",
    "    pg_attribute a\n",
    "JOIN\n",
    "    pg_class c ON a.attrelid = c.oid\n",
    "JOIN\n",
    "    pg_namespace n ON c.relnamespace = n.oid\n",
    "WHERE\n",
    "    c.relname = '{table}'\n",
    "    AND n.nspname = '{schema}'\n",
    "    AND a.attnum > 0\n",
    "    AND NOT a.attisdropped\n",
    "ORDER BY\n",
    "    a.attnum;\n",
    "\"\"\"\n",
    "\n",
    "# Call OpenAI model\n",
    "response = llm.invoke(prompt_template)\n",
    "display(Markdown(response.content))"
   ]
  },
  {
   "cell_type": "code",
   "execution_count": 10,
   "metadata": {},
   "outputs": [
    {
     "data": {
      "application/vnd.microsoft.datawrangler.viewer.v0+json": {
       "columns": [
        {
         "name": "index",
         "rawType": "int64",
         "type": "integer"
        },
        {
         "name": "column_name",
         "rawType": "object",
         "type": "string"
        },
        {
         "name": "data_type",
         "rawType": "object",
         "type": "string"
        },
        {
         "name": "description",
         "rawType": "object",
         "type": "unknown"
        }
       ],
       "conversionMethod": "pd.DataFrame",
       "ref": "a9d58bac-be43-4c7c-9400-428c1a0902d3",
       "rows": [
        [
         "0",
         "device_sn",
         "character varying(50)",
         null
        ],
        [
         "1",
         "radio_id",
         "integer",
         null
        ],
        [
         "2",
         "collection_time",
         "timestamp with time zone",
         null
        ],
        [
         "3",
         "collection_day",
         "timestamp with time zone",
         null
        ],
        [
         "4",
         "partition_date",
         "date",
         null
        ],
        [
         "5",
         "up_time",
         "bigint",
         null
        ],
        [
         "6",
         "bytes_sent",
         "numeric",
         null
        ],
        [
         "7",
         "bytes_received",
         "numeric",
         null
        ],
        [
         "8",
         "packets_sent",
         "numeric",
         null
        ],
        [
         "9",
         "packets_received",
         "numeric",
         null
        ],
        [
         "10",
         "errors_sent",
         "numeric",
         null
        ],
        [
         "11",
         "errors_received",
         "numeric",
         null
        ],
        [
         "12",
         "created_at",
         "timestamp without time zone",
         null
        ],
        [
         "13",
         "updated_at",
         "timestamp without time zone",
         null
        ]
       ],
       "shape": {
        "columns": 3,
        "rows": 14
       }
      },
      "text/html": [
       "<div>\n",
       "<style scoped>\n",
       "    .dataframe tbody tr th:only-of-type {\n",
       "        vertical-align: middle;\n",
       "    }\n",
       "\n",
       "    .dataframe tbody tr th {\n",
       "        vertical-align: top;\n",
       "    }\n",
       "\n",
       "    .dataframe thead th {\n",
       "        text-align: right;\n",
       "    }\n",
       "</style>\n",
       "<table border=\"1\" class=\"dataframe\">\n",
       "  <thead>\n",
       "    <tr style=\"text-align: right;\">\n",
       "      <th></th>\n",
       "      <th>column_name</th>\n",
       "      <th>data_type</th>\n",
       "      <th>description</th>\n",
       "    </tr>\n",
       "  </thead>\n",
       "  <tbody>\n",
       "    <tr>\n",
       "      <th>0</th>\n",
       "      <td>device_sn</td>\n",
       "      <td>character varying(50)</td>\n",
       "      <td>None</td>\n",
       "    </tr>\n",
       "    <tr>\n",
       "      <th>1</th>\n",
       "      <td>radio_id</td>\n",
       "      <td>integer</td>\n",
       "      <td>None</td>\n",
       "    </tr>\n",
       "    <tr>\n",
       "      <th>2</th>\n",
       "      <td>collection_time</td>\n",
       "      <td>timestamp with time zone</td>\n",
       "      <td>None</td>\n",
       "    </tr>\n",
       "    <tr>\n",
       "      <th>3</th>\n",
       "      <td>collection_day</td>\n",
       "      <td>timestamp with time zone</td>\n",
       "      <td>None</td>\n",
       "    </tr>\n",
       "    <tr>\n",
       "      <th>4</th>\n",
       "      <td>partition_date</td>\n",
       "      <td>date</td>\n",
       "      <td>None</td>\n",
       "    </tr>\n",
       "    <tr>\n",
       "      <th>5</th>\n",
       "      <td>up_time</td>\n",
       "      <td>bigint</td>\n",
       "      <td>None</td>\n",
       "    </tr>\n",
       "    <tr>\n",
       "      <th>6</th>\n",
       "      <td>bytes_sent</td>\n",
       "      <td>numeric</td>\n",
       "      <td>None</td>\n",
       "    </tr>\n",
       "    <tr>\n",
       "      <th>7</th>\n",
       "      <td>bytes_received</td>\n",
       "      <td>numeric</td>\n",
       "      <td>None</td>\n",
       "    </tr>\n",
       "    <tr>\n",
       "      <th>8</th>\n",
       "      <td>packets_sent</td>\n",
       "      <td>numeric</td>\n",
       "      <td>None</td>\n",
       "    </tr>\n",
       "    <tr>\n",
       "      <th>9</th>\n",
       "      <td>packets_received</td>\n",
       "      <td>numeric</td>\n",
       "      <td>None</td>\n",
       "    </tr>\n",
       "    <tr>\n",
       "      <th>10</th>\n",
       "      <td>errors_sent</td>\n",
       "      <td>numeric</td>\n",
       "      <td>None</td>\n",
       "    </tr>\n",
       "    <tr>\n",
       "      <th>11</th>\n",
       "      <td>errors_received</td>\n",
       "      <td>numeric</td>\n",
       "      <td>None</td>\n",
       "    </tr>\n",
       "    <tr>\n",
       "      <th>12</th>\n",
       "      <td>created_at</td>\n",
       "      <td>timestamp without time zone</td>\n",
       "      <td>None</td>\n",
       "    </tr>\n",
       "    <tr>\n",
       "      <th>13</th>\n",
       "      <td>updated_at</td>\n",
       "      <td>timestamp without time zone</td>\n",
       "      <td>None</td>\n",
       "    </tr>\n",
       "  </tbody>\n",
       "</table>\n",
       "</div>"
      ],
      "text/plain": [
       "         column_name                    data_type description\n",
       "0          device_sn        character varying(50)        None\n",
       "1           radio_id                      integer        None\n",
       "2    collection_time     timestamp with time zone        None\n",
       "3     collection_day     timestamp with time zone        None\n",
       "4     partition_date                         date        None\n",
       "5            up_time                       bigint        None\n",
       "6         bytes_sent                      numeric        None\n",
       "7     bytes_received                      numeric        None\n",
       "8       packets_sent                      numeric        None\n",
       "9   packets_received                      numeric        None\n",
       "10       errors_sent                      numeric        None\n",
       "11   errors_received                      numeric        None\n",
       "12        created_at  timestamp without time zone        None\n",
       "13        updated_at  timestamp without time zone        None"
      ]
     },
     "execution_count": 10,
     "metadata": {},
     "output_type": "execute_result"
    }
   ],
   "source": [
    "# Execute query on the PostgreSQL database\n",
    "df = get_column_info(schema, table)\n",
    "df"
   ]
  },
  {
   "cell_type": "code",
   "execution_count": null,
   "metadata": {},
   "outputs": [
    {
     "data": {
      "application/vnd.jupyter.widget-view+json": {
       "model_id": "df38fc56ad6942239caaf3a534e6f6ca",
       "version_major": 2,
       "version_minor": 0
      },
      "text/plain": [
       "VBox(children=(Textarea(value=\"You are helping document a PostgreSQL table.\\nWrite a short and clear descripti…"
      ]
     },
     "metadata": {},
     "output_type": "display_data"
    }
   ],
   "source": [
    "# Textarea widget for user-defined prompt template\n",
    "prompt_template_widget = widgets.Textarea(\n",
    "    value=(\n",
    "        \"You are helping document a PostgreSQL table.\\n\"\n",
    "        \"Write a short and clear description (one sentence) for a column named '{column_name}' of type '{data_type}'.\\n\"\n",
    "        \"- Do NOT include the column name in the description.\\n\"\n",
    "        \"- Do NOT include the table name.\\n\"\n",
    "        \"- Do NOT use quotation marks.\\n\"\n",
    "        \"Output only the sentence.\"\n",
    "    ),\n",
    "    description='Prompt template:',\n",
    "    layout=widgets.Layout(width='100%', height='150px')\n",
    ")\n",
    "\n",
    "generate_button = widgets.Button(description=\"Generate Suggestions\")\n",
    "output_box = widgets.Output()\n",
    "\n",
    "display(widgets.VBox([prompt_template_widget, generate_button, output_box]))\n",
    "\n",
    "# Function to generate a suggestion for a column\n",
    "def suggest_comment(column_name, data_type, template):\n",
    "    prompt = template.format(column_name=column_name, data_type=data_type)\n",
    "    return llm.invoke(prompt).content.strip().strip('\"').strip(\"'\")\n",
    "\n",
    "# Define the callback when the user clicks the button\n",
    "def on_generate_clicked(b):\n",
    "    output_box.clear_output()\n",
    "    with output_box:\n",
    "        print(\"Generating suggestions from LLM...\\n\")\n",
    "\n",
    "        # Prepare editable DataFrame\n",
    "        global df_edit\n",
    "        df_edit = df.copy()\n",
    "        df_edit.rename(columns={'description': 'current_description'}, inplace=True)\n",
    "        df_edit['llm_suggestion'] = None\n",
    "\n",
    "        template = prompt_template_widget.value\n",
    "\n",
    "        for i, row in df_edit.iterrows():\n",
    "            if pd.isna(row['current_description']):\n",
    "                try:\n",
    "                    suggestion = suggest_comment(\n",
    "                        row['column_name'],\n",
    "                        row['data_type'],\n",
    "                        template\n",
    "                    )\n",
    "                    df_edit.at[i, 'llm_suggestion'] = suggestion\n",
    "                    print(f\"✔ {row['column_name']}: {suggestion}\")\n",
    "                except Exception as e:\n",
    "                    print(f\"❌ Error for {row['column_name']}: {e}\")\n",
    "\n",
    "        print(\"\\n✅ Suggestions stored in `df_edit`\")\n",
    "\n",
    "generate_button.on_click(on_generate_clicked)"
   ]
  },
  {
   "cell_type": "code",
   "execution_count": 23,
   "metadata": {},
   "outputs": [
    {
     "data": {
      "application/vnd.microsoft.datawrangler.viewer.v0+json": {
       "columns": [
        {
         "name": "index",
         "rawType": "int64",
         "type": "integer"
        },
        {
         "name": "column_name",
         "rawType": "object",
         "type": "string"
        },
        {
         "name": "data_type",
         "rawType": "object",
         "type": "string"
        },
        {
         "name": "current_description",
         "rawType": "object",
         "type": "unknown"
        },
        {
         "name": "llm_suggestion",
         "rawType": "object",
         "type": "string"
        }
       ],
       "conversionMethod": "pd.DataFrame",
       "ref": "f9f8b347-c955-43e1-9f1a-6ee12e944dc4",
       "rows": [
        [
         "0",
         "device_sn",
         "character varying(50)",
         null,
         "Stores the unique serial number of up to 50 characters for a specific device."
        ],
        [
         "1",
         "radio_id",
         "integer",
         null,
         "Stores the unique identifier for each radio unit."
        ],
        [
         "2",
         "collection_time",
         "timestamp with time zone",
         null,
         "Stores the date and time, including the time zone, when the data was collected."
        ],
        [
         "3",
         "collection_day",
         "timestamp with time zone",
         null,
         "Indicates the date and time, including the time zone, when the data was collected."
        ],
        [
         "4",
         "partition_date",
         "date",
         null,
         "Stores the date when the data was divided into subsets."
        ],
        [
         "5",
         "up_time",
         "bigint",
         null,
         "Stores the duration for which the system has been running, measured in milliseconds."
        ],
        [
         "6",
         "bytes_sent",
         "numeric",
         null,
         "Represents the total amount of data, in bytes, that has been transmitted."
        ],
        [
         "7",
         "bytes_received",
         "numeric",
         null,
         "Represents the total number of bytes received."
        ],
        [
         "8",
         "packets_sent",
         "numeric",
         null,
         "Represents the number of packets that have been sent."
        ],
        [
         "9",
         "packets_received",
         "numeric",
         null,
         "Stores the number of data packets that have been received."
        ],
        [
         "10",
         "errors_sent",
         "numeric",
         null,
         "Represents the number of errors that have been sent."
        ],
        [
         "11",
         "errors_received",
         "numeric",
         null,
         "Stores the count of errors received."
        ],
        [
         "12",
         "created_at",
         "timestamp without time zone",
         null,
         "Stores the date and time when the record was created."
        ],
        [
         "13",
         "updated_at",
         "timestamp without time zone",
         null,
         "Stores the date and time of the most recent update to the record."
        ]
       ],
       "shape": {
        "columns": 4,
        "rows": 14
       }
      },
      "text/html": [
       "<div>\n",
       "<style scoped>\n",
       "    .dataframe tbody tr th:only-of-type {\n",
       "        vertical-align: middle;\n",
       "    }\n",
       "\n",
       "    .dataframe tbody tr th {\n",
       "        vertical-align: top;\n",
       "    }\n",
       "\n",
       "    .dataframe thead th {\n",
       "        text-align: right;\n",
       "    }\n",
       "</style>\n",
       "<table border=\"1\" class=\"dataframe\">\n",
       "  <thead>\n",
       "    <tr style=\"text-align: right;\">\n",
       "      <th></th>\n",
       "      <th>column_name</th>\n",
       "      <th>data_type</th>\n",
       "      <th>current_description</th>\n",
       "      <th>llm_suggestion</th>\n",
       "    </tr>\n",
       "  </thead>\n",
       "  <tbody>\n",
       "    <tr>\n",
       "      <th>0</th>\n",
       "      <td>device_sn</td>\n",
       "      <td>character varying(50)</td>\n",
       "      <td>None</td>\n",
       "      <td>Stores the unique serial number of up to 50 ch...</td>\n",
       "    </tr>\n",
       "    <tr>\n",
       "      <th>1</th>\n",
       "      <td>radio_id</td>\n",
       "      <td>integer</td>\n",
       "      <td>None</td>\n",
       "      <td>Stores the unique identifier for each radio unit.</td>\n",
       "    </tr>\n",
       "    <tr>\n",
       "      <th>2</th>\n",
       "      <td>collection_time</td>\n",
       "      <td>timestamp with time zone</td>\n",
       "      <td>None</td>\n",
       "      <td>Stores the date and time, including the time z...</td>\n",
       "    </tr>\n",
       "    <tr>\n",
       "      <th>3</th>\n",
       "      <td>collection_day</td>\n",
       "      <td>timestamp with time zone</td>\n",
       "      <td>None</td>\n",
       "      <td>Indicates the date and time, including the tim...</td>\n",
       "    </tr>\n",
       "    <tr>\n",
       "      <th>4</th>\n",
       "      <td>partition_date</td>\n",
       "      <td>date</td>\n",
       "      <td>None</td>\n",
       "      <td>Stores the date when the data was divided into...</td>\n",
       "    </tr>\n",
       "    <tr>\n",
       "      <th>5</th>\n",
       "      <td>up_time</td>\n",
       "      <td>bigint</td>\n",
       "      <td>None</td>\n",
       "      <td>Stores the duration for which the system has b...</td>\n",
       "    </tr>\n",
       "    <tr>\n",
       "      <th>6</th>\n",
       "      <td>bytes_sent</td>\n",
       "      <td>numeric</td>\n",
       "      <td>None</td>\n",
       "      <td>Represents the total amount of data, in bytes,...</td>\n",
       "    </tr>\n",
       "    <tr>\n",
       "      <th>7</th>\n",
       "      <td>bytes_received</td>\n",
       "      <td>numeric</td>\n",
       "      <td>None</td>\n",
       "      <td>Represents the total number of bytes received.</td>\n",
       "    </tr>\n",
       "    <tr>\n",
       "      <th>8</th>\n",
       "      <td>packets_sent</td>\n",
       "      <td>numeric</td>\n",
       "      <td>None</td>\n",
       "      <td>Represents the number of packets that have bee...</td>\n",
       "    </tr>\n",
       "    <tr>\n",
       "      <th>9</th>\n",
       "      <td>packets_received</td>\n",
       "      <td>numeric</td>\n",
       "      <td>None</td>\n",
       "      <td>Stores the number of data packets that have be...</td>\n",
       "    </tr>\n",
       "    <tr>\n",
       "      <th>10</th>\n",
       "      <td>errors_sent</td>\n",
       "      <td>numeric</td>\n",
       "      <td>None</td>\n",
       "      <td>Represents the number of errors that have been...</td>\n",
       "    </tr>\n",
       "    <tr>\n",
       "      <th>11</th>\n",
       "      <td>errors_received</td>\n",
       "      <td>numeric</td>\n",
       "      <td>None</td>\n",
       "      <td>Stores the count of errors received.</td>\n",
       "    </tr>\n",
       "    <tr>\n",
       "      <th>12</th>\n",
       "      <td>created_at</td>\n",
       "      <td>timestamp without time zone</td>\n",
       "      <td>None</td>\n",
       "      <td>Stores the date and time when the record was c...</td>\n",
       "    </tr>\n",
       "    <tr>\n",
       "      <th>13</th>\n",
       "      <td>updated_at</td>\n",
       "      <td>timestamp without time zone</td>\n",
       "      <td>None</td>\n",
       "      <td>Stores the date and time of the most recent up...</td>\n",
       "    </tr>\n",
       "  </tbody>\n",
       "</table>\n",
       "</div>"
      ],
      "text/plain": [
       "         column_name                    data_type current_description  \\\n",
       "0          device_sn        character varying(50)                None   \n",
       "1           radio_id                      integer                None   \n",
       "2    collection_time     timestamp with time zone                None   \n",
       "3     collection_day     timestamp with time zone                None   \n",
       "4     partition_date                         date                None   \n",
       "5            up_time                       bigint                None   \n",
       "6         bytes_sent                      numeric                None   \n",
       "7     bytes_received                      numeric                None   \n",
       "8       packets_sent                      numeric                None   \n",
       "9   packets_received                      numeric                None   \n",
       "10       errors_sent                      numeric                None   \n",
       "11   errors_received                      numeric                None   \n",
       "12        created_at  timestamp without time zone                None   \n",
       "13        updated_at  timestamp without time zone                None   \n",
       "\n",
       "                                       llm_suggestion  \n",
       "0   Stores the unique serial number of up to 50 ch...  \n",
       "1   Stores the unique identifier for each radio unit.  \n",
       "2   Stores the date and time, including the time z...  \n",
       "3   Indicates the date and time, including the tim...  \n",
       "4   Stores the date when the data was divided into...  \n",
       "5   Stores the duration for which the system has b...  \n",
       "6   Represents the total amount of data, in bytes,...  \n",
       "7      Represents the total number of bytes received.  \n",
       "8   Represents the number of packets that have bee...  \n",
       "9   Stores the number of data packets that have be...  \n",
       "10  Represents the number of errors that have been...  \n",
       "11               Stores the count of errors received.  \n",
       "12  Stores the date and time when the record was c...  \n",
       "13  Stores the date and time of the most recent up...  "
      ]
     },
     "execution_count": 23,
     "metadata": {},
     "output_type": "execute_result"
    }
   ],
   "source": [
    "df_edit"
   ]
  },
  {
   "cell_type": "code",
   "execution_count": 24,
   "metadata": {},
   "outputs": [
    {
     "data": {
      "application/vnd.jupyter.widget-view+json": {
       "model_id": "15af32dae27a44b68110e36dc7cb8eb1",
       "version_major": 2,
       "version_minor": 0
      },
      "text/plain": [
       "VBox(children=(HBox(children=(HTML(value='<b>device_sn</b> (character varying(50))'), Text(value='Stores the u…"
      ]
     },
     "metadata": {},
     "output_type": "display_data"
    }
   ],
   "source": [
    "# Store widgets and metadata\n",
    "input_widgets = []\n",
    "\n",
    "for _, row in df_edit.iterrows():\n",
    "    col_label = widgets.HTML(f\"<b>{row['column_name']}</b> ({row['data_type']})\")\n",
    "    \n",
    "    default_text = (\n",
    "        row['current_description']\n",
    "        if pd.notna(row['current_description'])\n",
    "        else row['llm_suggestion'] or ''\n",
    "    )\n",
    "    \n",
    "    comment_input = widgets.Text(\n",
    "        value=default_text,\n",
    "        placeholder=\"Edit description or leave empty to skip\"\n",
    "    )\n",
    "    \n",
    "    input_widgets.append((row['column_name'], comment_input, col_label))\n",
    "\n",
    "# Display inputs\n",
    "form_rows = [widgets.HBox([label, input_]) for _, input_, label in input_widgets]\n",
    "display(widgets.VBox(form_rows))"
   ]
  },
  {
   "cell_type": "code",
   "execution_count": 25,
   "metadata": {},
   "outputs": [
    {
     "data": {
      "application/vnd.microsoft.datawrangler.viewer.v0+json": {
       "columns": [
        {
         "name": "index",
         "rawType": "int64",
         "type": "integer"
        },
        {
         "name": "column_name",
         "rawType": "object",
         "type": "string"
        },
        {
         "name": "comment",
         "rawType": "object",
         "type": "string"
        }
       ],
       "conversionMethod": "pd.DataFrame",
       "ref": "93b7bc38-3480-493c-a779-0f598f1b12a6",
       "rows": [
        [
         "0",
         "device_sn",
         "Stores the unique serial number of up to 50 characters for a specific device."
        ],
        [
         "1",
         "radio_id",
         "Stores the unique identifier for each radio unit."
        ],
        [
         "2",
         "collection_time",
         "Stores the date and time, including the time zone, when the data was collected."
        ],
        [
         "3",
         "collection_day",
         "Indicates the date and time, including the time zone, when the data was collected."
        ],
        [
         "4",
         "partition_date",
         "Stores the date when the data was divided into subsets."
        ],
        [
         "5",
         "up_time",
         "Stores the duration for which the system has been running, measured in milliseconds."
        ],
        [
         "6",
         "bytes_sent",
         "Represents the total amount of data, in bytes, that has been transmitted."
        ],
        [
         "7",
         "bytes_received",
         "Represents the total number of bytes received."
        ],
        [
         "8",
         "packets_sent",
         "Represents the number of packets that have been sent."
        ],
        [
         "9",
         "packets_received",
         "Stores the number of data packets that have been received."
        ],
        [
         "10",
         "errors_sent",
         "Represents the number of errors that have been sent."
        ],
        [
         "11",
         "errors_received",
         "Stores the count of errors received."
        ],
        [
         "12",
         "created_at",
         "Stores the date and time when the record was created."
        ],
        [
         "13",
         "updated_at",
         "Stores the date and time of the most recent update to the record."
        ]
       ],
       "shape": {
        "columns": 2,
        "rows": 14
       }
      },
      "text/html": [
       "<div>\n",
       "<style scoped>\n",
       "    .dataframe tbody tr th:only-of-type {\n",
       "        vertical-align: middle;\n",
       "    }\n",
       "\n",
       "    .dataframe tbody tr th {\n",
       "        vertical-align: top;\n",
       "    }\n",
       "\n",
       "    .dataframe thead th {\n",
       "        text-align: right;\n",
       "    }\n",
       "</style>\n",
       "<table border=\"1\" class=\"dataframe\">\n",
       "  <thead>\n",
       "    <tr style=\"text-align: right;\">\n",
       "      <th></th>\n",
       "      <th>column_name</th>\n",
       "      <th>comment</th>\n",
       "    </tr>\n",
       "  </thead>\n",
       "  <tbody>\n",
       "    <tr>\n",
       "      <th>0</th>\n",
       "      <td>device_sn</td>\n",
       "      <td>Stores the unique serial number of up to 50 ch...</td>\n",
       "    </tr>\n",
       "    <tr>\n",
       "      <th>1</th>\n",
       "      <td>radio_id</td>\n",
       "      <td>Stores the unique identifier for each radio unit.</td>\n",
       "    </tr>\n",
       "    <tr>\n",
       "      <th>2</th>\n",
       "      <td>collection_time</td>\n",
       "      <td>Stores the date and time, including the time z...</td>\n",
       "    </tr>\n",
       "    <tr>\n",
       "      <th>3</th>\n",
       "      <td>collection_day</td>\n",
       "      <td>Indicates the date and time, including the tim...</td>\n",
       "    </tr>\n",
       "    <tr>\n",
       "      <th>4</th>\n",
       "      <td>partition_date</td>\n",
       "      <td>Stores the date when the data was divided into...</td>\n",
       "    </tr>\n",
       "    <tr>\n",
       "      <th>5</th>\n",
       "      <td>up_time</td>\n",
       "      <td>Stores the duration for which the system has b...</td>\n",
       "    </tr>\n",
       "    <tr>\n",
       "      <th>6</th>\n",
       "      <td>bytes_sent</td>\n",
       "      <td>Represents the total amount of data, in bytes,...</td>\n",
       "    </tr>\n",
       "    <tr>\n",
       "      <th>7</th>\n",
       "      <td>bytes_received</td>\n",
       "      <td>Represents the total number of bytes received.</td>\n",
       "    </tr>\n",
       "    <tr>\n",
       "      <th>8</th>\n",
       "      <td>packets_sent</td>\n",
       "      <td>Represents the number of packets that have bee...</td>\n",
       "    </tr>\n",
       "    <tr>\n",
       "      <th>9</th>\n",
       "      <td>packets_received</td>\n",
       "      <td>Stores the number of data packets that have be...</td>\n",
       "    </tr>\n",
       "    <tr>\n",
       "      <th>10</th>\n",
       "      <td>errors_sent</td>\n",
       "      <td>Represents the number of errors that have been...</td>\n",
       "    </tr>\n",
       "    <tr>\n",
       "      <th>11</th>\n",
       "      <td>errors_received</td>\n",
       "      <td>Stores the count of errors received.</td>\n",
       "    </tr>\n",
       "    <tr>\n",
       "      <th>12</th>\n",
       "      <td>created_at</td>\n",
       "      <td>Stores the date and time when the record was c...</td>\n",
       "    </tr>\n",
       "    <tr>\n",
       "      <th>13</th>\n",
       "      <td>updated_at</td>\n",
       "      <td>Stores the date and time of the most recent up...</td>\n",
       "    </tr>\n",
       "  </tbody>\n",
       "</table>\n",
       "</div>"
      ],
      "text/plain": [
       "         column_name                                            comment\n",
       "0          device_sn  Stores the unique serial number of up to 50 ch...\n",
       "1           radio_id  Stores the unique identifier for each radio unit.\n",
       "2    collection_time  Stores the date and time, including the time z...\n",
       "3     collection_day  Indicates the date and time, including the tim...\n",
       "4     partition_date  Stores the date when the data was divided into...\n",
       "5            up_time  Stores the duration for which the system has b...\n",
       "6         bytes_sent  Represents the total amount of data, in bytes,...\n",
       "7     bytes_received     Represents the total number of bytes received.\n",
       "8       packets_sent  Represents the number of packets that have bee...\n",
       "9   packets_received  Stores the number of data packets that have be...\n",
       "10       errors_sent  Represents the number of errors that have been...\n",
       "11   errors_received               Stores the count of errors received.\n",
       "12        created_at  Stores the date and time when the record was c...\n",
       "13        updated_at  Stores the date and time of the most recent up..."
      ]
     },
     "execution_count": 25,
     "metadata": {},
     "output_type": "execute_result"
    }
   ],
   "source": [
    "# Collect final descriptions\n",
    "final_comments = []\n",
    "\n",
    "for column_name, input_widget, _ in input_widgets:\n",
    "    comment = input_widget.value.strip()\n",
    "    if comment:\n",
    "        final_comments.append({\n",
    "            \"column_name\": column_name,\n",
    "            \"comment\": comment\n",
    "        })\n",
    "\n",
    "final_comments_df = pd.DataFrame(final_comments)\n",
    "final_comments_df"
   ]
  },
  {
   "cell_type": "code",
   "execution_count": 26,
   "metadata": {},
   "outputs": [
    {
     "data": {
      "text/markdown": [
       "```sql\n",
       "COMMENT ON COLUMN wei.t_radio_devices_stats_last_status.device_sn IS 'Stores the unique serial number of up to 50 characters for a specific device.';\n",
       "COMMENT ON COLUMN wei.t_radio_devices_stats_last_status.radio_id IS 'Stores the unique identifier for each radio unit.';\n",
       "COMMENT ON COLUMN wei.t_radio_devices_stats_last_status.collection_time IS 'Stores the date and time, including the time zone, when the data was collected.';\n",
       "COMMENT ON COLUMN wei.t_radio_devices_stats_last_status.collection_day IS 'Indicates the date and time, including the time zone, when the data was collected.';\n",
       "COMMENT ON COLUMN wei.t_radio_devices_stats_last_status.partition_date IS 'Stores the date when the data was divided into subsets.';\n",
       "COMMENT ON COLUMN wei.t_radio_devices_stats_last_status.up_time IS 'Stores the duration for which the system has been running, measured in milliseconds.';\n",
       "COMMENT ON COLUMN wei.t_radio_devices_stats_last_status.bytes_sent IS 'Represents the total amount of data, in bytes, that has been transmitted.';\n",
       "COMMENT ON COLUMN wei.t_radio_devices_stats_last_status.bytes_received IS 'Represents the total number of bytes received.';\n",
       "COMMENT ON COLUMN wei.t_radio_devices_stats_last_status.packets_sent IS 'Represents the number of packets that have been sent.';\n",
       "COMMENT ON COLUMN wei.t_radio_devices_stats_last_status.packets_received IS 'Stores the number of data packets that have been received.';\n",
       "COMMENT ON COLUMN wei.t_radio_devices_stats_last_status.errors_sent IS 'Represents the number of errors that have been sent.';\n",
       "COMMENT ON COLUMN wei.t_radio_devices_stats_last_status.errors_received IS 'Stores the count of errors received.';\n",
       "COMMENT ON COLUMN wei.t_radio_devices_stats_last_status.created_at IS 'Stores the date and time when the record was created.';\n",
       "COMMENT ON COLUMN wei.t_radio_devices_stats_last_status.updated_at IS 'Stores the date and time of the most recent update to the record.';\n",
       "```"
      ],
      "text/plain": [
       "<IPython.core.display.Markdown object>"
      ]
     },
     "metadata": {},
     "output_type": "display_data"
    }
   ],
   "source": [
    "# Compose the SQL statements\n",
    "sql_lines = []\n",
    "\n",
    "for _, row in final_comments_df.iterrows():\n",
    "    col = row[\"column_name\"]\n",
    "    comment = row[\"comment\"].replace(\"'\", \"''\")  # escape single quotes for SQL\n",
    "    sql_lines.append(f\"COMMENT ON COLUMN {schema}.{table}.{col} IS '{comment}';\")\n",
    "\n",
    "sql_script = \"\\n\".join(sql_lines)\n",
    "\n",
    "# Display as markdown\n",
    "markdown_preview = f\"```sql\\n{sql_script}\\n```\"\n",
    "display(Markdown(markdown_preview))"
   ]
  },
  {
   "cell_type": "code",
   "execution_count": null,
   "metadata": {},
   "outputs": [
    {
     "data": {
      "application/vnd.jupyter.widget-view+json": {
       "model_id": "de65b6e732504ebd9af5e3c409cd57a5",
       "version_major": 2,
       "version_minor": 0
      },
      "text/plain": [
       "Button(description='Execute SQL', style=ButtonStyle())"
      ]
     },
     "metadata": {},
     "output_type": "display_data"
    },
    {
     "data": {
      "application/vnd.jupyter.widget-view+json": {
       "model_id": "10ba60a27c474e908479cc9e5d9f4290",
       "version_major": 2,
       "version_minor": 0
      },
      "text/plain": [
       "Output()"
      ]
     },
     "metadata": {},
     "output_type": "display_data"
    }
   ],
   "source": [
    "# Confirm before running the query\n",
    "\n",
    "confirm_button = widgets.Button(description=\"Execute SQL\")\n",
    "output_box = widgets.Output()\n",
    "\n",
    "def on_confirm_clicked(b):\n",
    "    with output_box:\n",
    "        output_box.clear_output()\n",
    "        engine = get_pg_engine()\n",
    "        success = True\n",
    "\n",
    "        print(\"🔍 Executing SQL statements...\\n\")\n",
    "\n",
    "        try:\n",
    "            with engine.begin() as conn:  # uses transaction + autocommit\n",
    "                for stmt in sql_lines:\n",
    "                    print(f\"→ {stmt}\")\n",
    "                    conn.execute(text(stmt))\n",
    "            print(\"\\n✅ All comments applied successfully.\")\n",
    "        except SQLAlchemyError as e:\n",
    "            success = False\n",
    "            print(f\"\\n❌ An error occurred:\\n{str(e)}\")\n",
    "\n",
    "        if not success:\n",
    "            print(\"\\nNo changes were committed to the database.\")\n",
    "\n",
    "confirm_button.on_click(on_confirm_clicked)\n",
    "\n",
    "display(confirm_button, output_box)"
   ]
  },
  {
   "cell_type": "code",
   "execution_count": null,
   "metadata": {},
   "outputs": [],
   "source": []
  }
 ],
 "metadata": {
  "kernelspec": {
   "display_name": "data-catalog-app-Jqt43Ycl",
   "language": "python",
   "name": "python3"
  },
  "language_info": {
   "codemirror_mode": {
    "name": "ipython",
    "version": 3
   },
   "file_extension": ".py",
   "mimetype": "text/x-python",
   "name": "python",
   "nbconvert_exporter": "python",
   "pygments_lexer": "ipython3",
   "version": "3.10.2"
  }
 },
 "nbformat": 4,
 "nbformat_minor": 2
}
